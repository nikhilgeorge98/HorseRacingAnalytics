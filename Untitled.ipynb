{
 "cells": [
  {
   "cell_type": "code",
   "execution_count": 9,
   "metadata": {},
   "outputs": [],
   "source": [
    "import numpy as np\n",
    "import pandas as pd\n",
    "import matplotlib.pyplot as plt"
   ]
  },
  {
   "cell_type": "code",
   "execution_count": 2,
   "metadata": {},
   "outputs": [],
   "source": [
    "# coords = {'Nose': (-0.13585709035396576, -0.4137409031391144, 1.8126667737960815),\n",
    "# 'Neck': (-0.13701879978179932, -0.22523635625839233, 1.8281667232513428),\n",
    "# 'Right_shoulder': (-0.2949504554271698, -0.2256128042936325, 1.8312222957611084),\n",
    "# 'Right_elbow': (-0.3384155035018921, 0.05732555687427521, 1.752666711807251),\n",
    "# 'Right_wrist': (-0.30501481890678406, 0.21629486978054047, 1.635805606842041),\n",
    "# 'Left_shoulder': (0.010495265014469624, -0.23914502561092377, 1.8576945066452026),\n",
    "# 'Left_elbow': (0.07421252876520157, 0.027404701337218285, 1.970166802406311),\n",
    "# 'Left_wrist': (0.08008362352848053, 0.2554342746734619, 1.8542778491973877),\n",
    "# 'Right_hip': (-0.21924269199371338, 0.25399550795555115, 1.7591111660003662),\n",
    "# 'Left_hip': (-0.044148169457912445, 0.2523069679737091, 1.7474167346954346),\n",
    "# 'Left_knee': (-0.05053143575787544, 0.5528118014335632, 1.6414167881011963),\n",
    "# 'Right_eye': (-0.16000564396381378, -0.45386767387390137, 1.8371667861938477),\n",
    "# 'Left_eye': (-0.10215574502944946, -0.4492286443710327, 1.8183889389038086),\n",
    "# 'Right_ear': (-0.0886768326163292, -0.1817185878753662, 0.7961389422416687),\n",
    "# 'Left_ear': (-0.05716565623879433, -0.4135744869709015, 1.8569167852401733)}"
   ]
  },
  {
   "cell_type": "code",
   "execution_count": 3,
   "metadata": {},
   "outputs": [],
   "source": [
    "# df = pd.DataFrame.from_dict(coords, orient=\"index\", columns=[\"X\", \"Y\", \"Z\"])"
   ]
  },
  {
   "cell_type": "code",
   "execution_count": 4,
   "metadata": {},
   "outputs": [],
   "source": [
    "# df"
   ]
  },
  {
   "cell_type": "code",
   "execution_count": 5,
   "metadata": {},
   "outputs": [],
   "source": [
    "# x = df.to_numpy()\n",
    "# x"
   ]
  },
  {
   "cell_type": "code",
   "execution_count": 6,
   "metadata": {},
   "outputs": [],
   "source": [
    "# np.random.rand(15,3)"
   ]
  },
  {
   "cell_type": "code",
   "execution_count": 7,
   "metadata": {},
   "outputs": [],
   "source": [
    "# df = pd.read_csv(\"calibration_coords.csv\")\n",
    "# df"
   ]
  },
  {
   "cell_type": "code",
   "execution_count": 8,
   "metadata": {},
   "outputs": [],
   "source": [
    "# # df['Nose'] = df['Nose'].str.strip('(')\n",
    "# # df['Nose'] = df['Nose'].str.strip(')')\n",
    "# # split = df['Nose'].str.split(',', expand=True)\n",
    "# old_cols = df.columns\n",
    "# for i in old_cols:\n",
    "#     df[i] = df[i].str.strip('(')\n",
    "#     df[i] = df[i].str.strip(')')\n",
    "#     split = df[i].str.split(',', expand=True)\n",
    "#     df['{}X'.format(i)] = pd.to_numeric(split[0], errors = 'coerce')\n",
    "#     df['{}Y'.format(i)] = pd.to_numeric(split[1], errors = 'coerce')\n",
    "#     df['{}Z'.format(i)] = pd.to_numeric(split[2], errors = 'coerce')\n",
    "# df.drop(columns=old_cols, inplace=True)\n",
    "# df.replace(0, np.nan, inplace=True)\n",
    "# df"
   ]
  },
  {
   "cell_type": "code",
   "execution_count": 9,
   "metadata": {},
   "outputs": [],
   "source": [
    "# joints = ['Nose','Neck','Right_shoulder','Right_elbow','Right_wrist','Left_shoulder',\n",
    "#         'Left_elbow','Left_wrist','Right_hip','Right_knee','Right_ankle','Left_hip',\n",
    "#         'Left_knee','Left_ankle','Right_eye','Left_eye','Right_ear','Left_ear']\n",
    "# init_pos = {key: (0,0,0) for key in joints}\n",
    "# init_pos_median = {key: (0,0,0) for key in joints}\n",
    "# for i in joints:\n",
    "#     init_pos[i] = (df['{}X'.format(i)].mean(), df['{}Y'.format(i)].mean(), df['{}Z'.format(i)].mean())\n",
    "#     init_pos_median[i] = (df['{}X'.format(i)].median(), df['{}Y'.format(i)].median(), df['{}Z'.format(i)].median())\n",
    "# init_pos"
   ]
  },
  {
   "cell_type": "code",
   "execution_count": 10,
   "metadata": {},
   "outputs": [],
   "source": [
    "# init_pos_median"
   ]
  },
  {
   "cell_type": "code",
   "execution_count": 11,
   "metadata": {},
   "outputs": [],
   "source": [
    "# a = [[(-0.11942662298679352, -0.5873437523841858, 1.9356112480163574), (-0.1572546660900116, -0.38554614782333374, 1.954222321510315), (0, 0, 0), (-0.24708226323127747, -0.07241305708885193, 1.3251111507415771), (-0.3705482482910156, 0.10945331305265427, 1.9190834760665894), (0.0002607452333904803, -0.3982110023498535, 2.0184168815612793), (0.06354285031557083, -0.12543600797653198, 2.046889066696167), (0, 0, 0), (-0.24459019303321838, 0.11964936554431915, 1.8792500495910645), (0, 0, 0), (0, 0, 0), (0, 0, 0), (0, 0, 0), (0, 0, 0), (-0.15536586940288544, -0.6221625208854675, 1.9307501316070557), (-0.10928270220756531, -0.6139291524887085, 1.9452500343322754), (-0.21608112752437592, -0.601537823677063, 1.9399722814559937), (0, 0, 0)], [(-0.1471223086118698, -0.6086695194244385, 1.9629722833633423), (-0.15499258041381836, -0.3693511188030243, 1.9261112213134766), (-0.018155889585614204, -0.022238830104470253, 0.11272222548723221), (-0.37118276953697205, -0.1219906285405159, 1.9906667470932007), (-0.3701459765434265, 0.10933449119329453, 1.9170000553131104), (0.000258308689808473, -0.39448991417884827, 1.9995557069778442), (0.06440086662769318, -0.12712974846363068, 2.0745279788970947), (0.04799167439341545, 0.11209114640951157, 1.9653334617614746), (-0.2445504367351532, 0.11962991207838058, 1.8789445161819458), (-0.2422235757112503, 0.49767109751701355, 1.94350004196167), (0, 0, 0), (-0.058115724474191666, 0.12019231915473938, 1.8877779245376587), (-0.07360582053661346, 0.4798990786075592, 1.9675556421279907), (0, 0, 0), (-0.17014481127262115, -0.6295202970504761, 1.9535834789276123), (-0.1079796627163887, -0.6193608045578003, 1.9220556020736694), (-0.23489521443843842, -0.6039992570877075, 1.9905000925064087), (-0.08844045549631119, -0.6094443202018738, 2.0084445476531982)], [(-0.1440681368112564, -0.5960339307785034, 1.9222222566604614), (-0.1557123363018036, -0.37106630206108093, 1.9350556135177612), (-0.31671246886253357, -0.3879355192184448, 1.9663333892822266), (-0.3779161274433136, -0.12420357018709183, 2.026777982711792), (-0.3770541846752167, 0.11137504875659943, 1.9527778625488281), (0.0002577201812528074, -0.39359113574028015, 1.9950001239776611), (0.06368944048881531, -0.1257253736257553, 2.0516111850738525), (0.047606393694877625, 0.1111912727355957, 1.9495556354522705), (-0.2429669052362442, 0.11885527521371841, 1.8667778968811035), (-0.2432829588651657, 0.4998477101325989, 1.9520001411437988), (0, 0, 0), (-0.058068692684173584, 0.13260939717292786, 1.8862501382827759), (-0.07425322383642197, 0.4972885847091675, 1.9848612546920776), (0, 0, 0), (-0.1693633794784546, -0.6373803615570068, 1.9446111917495728), (-0.10867410153150558, -0.6233440041542053, 1.9344167709350586), (-0.23073869943618774, -0.6062837243080139, 1.955277919769287), (-0.08534704148769379, -0.588127613067627, 1.9381945133209229)], [(-0.14320622384548187, -0.5924680829048157, 1.910722255706787), (-0.15626220405101776, -0.3723766505718231, 1.9418889284133911), (-0.3172314465045929, -0.38857123255729675, 1.9695556163787842), (-0.37279877066612244, -0.13357555866241455, 1.999333381652832), (-0.3760887384414673, 0.12401244044303894, 1.9477778673171997), (0.00025842353352345526, -0.39466530084609985, 2.0004446506500244), (0.06444742530584335, -0.12722165882587433, 2.0760278701782227), (0.04753923788666725, 0.11103442311286926, 1.9468055963516235), (-0.2452915906906128, 0.11999247223138809, 1.884639024734497), (-0.22951272130012512, 0.4980267584323883, 1.944888949394226), (0, 0, 0), (-0.05834832414984703, 0.12067336589097977, 1.8953334093093872), (-0.07345618307590485, 0.4789234697818756, 1.9635556936264038), (0, 0, 0), (-0.16927143931388855, -0.626288890838623, 1.9435555934906006), (-0.10808578133583069, -0.6199694871902466, 1.9239445924758911), (-0.23374789953231812, -0.6010491251945496, 1.9807778596878052), (-0.08774079382419586, -0.6046229600906372, 1.9925556182861328)], [(-0.14367258548736572, -0.5943974256515503, 1.9169445037841797), (-0.15647456049919128, -0.3728826940059662, 1.9445278644561768), (-0.3171240985393524, -0.38843971490859985, 1.9688889980316162), (-0.36546462774276733, -0.13094769418239594, 1.9600000381469727), (-0.37736526131629944, 0.12443336099386215, 1.954388976097107), (0.00025822254247032106, -0.394358366727829, 1.9988889694213867), (0.06368168443441391, -0.12571007013320923, 2.051361322402954), (0.06071184203028679, 0.11154139786958694, 1.955694556236267), (-0.2420739233493805, 0.11841844022274017, 1.8599168062210083), (-0.24184276163578033, 0.4968886971473694, 1.9404445886611938), (0, 0, 0), (-0.058553557842969894, 0.12109782546758652, 1.902000069618225), (-0.08779461681842804, 0.4995225667953491, 1.993777871131897), (0, 0, 0), (-0.16892065107822418, -0.6249909996986389, 1.9395278692245483), (-0.1095714122056961, -0.6284909248352051, 1.95038902759552), (-0.23372168838977814, -0.6009817123413086, 1.9805556535720825), (-0.08823985606431961, -0.6080620288848877, 2.0038890838623047)], [(-0.14338527619838715, -0.5932088494300842, 1.9131112098693848), (-0.15678972005844116, -0.3736337423324585, 1.9484444856643677), (-0.317428320646286, -0.3888123631477356, 1.9707778692245483), (-0.3735446035861969, -0.12276685237884521, 2.003333330154419), (-0.3746781647205353, 0.1106732115149498, 1.9404723644256592), (0.0002584522299002856, -0.39470914006233215, 2.000666856765747), (0.06399642676115036, -0.1263313889503479, 2.061500072479248), (0.06120163947343826, 0.11244126409292221, 1.9714722633361816), (-0.24397920072078705, 0.1317872256040573, 1.8745555877685547), (-0.22778193652629852, 0.507077157497406, 1.9302222728729248), (0, 0, 0), (-0.0573965460062027, 0.1310744434595108, 1.8644167184829712), (-0.07368895411491394, 0.49350959062576294, 1.9697778224945068), (0, 0, 0), (-0.16946983337402344, -0.627022922039032, 1.945833444595337), (-0.10873027890920639, -0.6236662864685059, 1.9354168176651), (-0.2341412603855133, -0.6020606160163879, 1.9841111898422241), (-0.08822761476039886, -0.6079776883125305, 2.0036110877990723)], [(-0.14256083965301514, -0.577178418636322, 1.9021111726760864), (-0.15629126131534576, -0.3724459111690521, 1.94225013256073), (-0.31633666157722473, -0.3874751925468445, 1.9640001058578491), (-0.37690094113349915, -0.1350453943014145, \n",
    "# 2.0213334560394287), (-0.37327826023101807, 0.11025971174240112, 1.9332222938537598), (0.00025716039817780256, -0.3927362263202667, 1.9906667470932007), (0.06541667878627777, -0.12913501262664795, 2.107250213623047), (0.06077306717634201, 0.1116538792848587, 1.9576667547225952), (-0.24389967322349548, 0.13174426555633545, 1.8739445209503174), (-0.23008309304714203, 0.4992644190788269, 1.9497222900390625), (0, 0, 0), (-0.05782753974199295, 0.13205868005752563, 1.8784167766571045), (-0.07445377856492996, 0.4986317753791809, 1.9902223348617554), (0, 0, 0), (-0.1691553294658661, -0.6258593201637268, 1.9422223567962646), (-0.10976959764957428, -0.6166644096374512, 1.9539167881011963), (-0.23437727987766266, -0.6026674509048462, 1.9861111640930176), (-0.07632426917552948, -0.6190870404243469, 2.040222406387329)], [(-0.13217699527740479, -0.5870234370231628, 1.9345556497573853), (-0.1564544439315796, -0.3728347718715668, 1.9442778825759888), (-0.31714197993278503, -0.3884616196155548, 1.9690001010894775), (-0.37605151534080505, -0.12359075993299484, 2.016777992248535), (-0.37572404742240906, 0.11098214983940125, 1.9458889961242676), (0.00025882539921440184, -0.39527902007102966, 2.0035555362701416), (0.06367305666208267, -0.11208509653806686, 2.0510833263397217), (0.047832269221544266, 0.11171884089708328, 1.9588056802749634), (-0.2426234483718872, 0.13105490803718567, 1.8641389608383179), (-0.2458171546459198, 0.5050544738769531, 1.9723334312438965), (0, 0, 0), (-0.05846890062093735, 0.1335233449935913, 1.8992501497268677), (-0.08813710510730743, 0.501471221446991, 2.0015556812286377), (0, 0, 0), (-0.16969722509384155, -0.6278643012046814, 1.9484444856643677), (-0.10993189364671707, -0.6175761818885803, 1.95680570602417), (-0.2345346212387085, -0.6030720472335815, 1.987444519996643), (-0.07602914422750473, -0.6166931986808777, 2.0323333740234375)], [(-0.1319245845079422, -0.5859023928642273, 1.930861234664917), (-0.156610906124115, -0.37320762872695923, 1.9462223052978516), (-0.31751778721809387, -0.3780229389667511, 1.971333384513855), (-0.37190788984298706, -0.13325636088848114, 1.9945555925369263), (-0.37698981165885925, 0.12430956214666367, 1.9524445533752441), (0.0002566580078564584, -0.3919689953327179, 1.986777901649475), (0.06335313618183136, -0.125061497092247, 2.0407779216766357), (0.047599609941244125, 0.11117542535066605, 1.9492778778076172), (-0.2422799915075302, 0.13086938858032227, 1.8615001440048218), (-0.23008964955806732, 0.4992786645889282, 1.9497778415679932), (0, 0, 0), (-0.05867157131433487, 0.13398616015911102, 1.9058334827423096), (-0.07439973950386047, 0.49826985597610474, 1.9887778759002686), (0, 0, 0), (-0.16911177337169647, -0.6256981492042542, 1.9417222738265991), (-0.10962134599685669, -0.6158315539360046, 1.9512778520584106), (-0.23391836881637573, -0.6014874577522278, 1.982222318649292), (-0.07677733898162842, -0.6091457605361938, 2.052333354949951)]]"
   ]
  },
  {
   "cell_type": "code",
   "execution_count": 12,
   "metadata": {},
   "outputs": [],
   "source": [
    "# df = pd.DataFrame(a ,columns=joints)\n",
    "# # print(df.columns)\n",
    "# old_cols = df.columns\n",
    "# for i in old_cols:\n",
    "#     df[['{}X'.format(i), '{}Y'.format(i), '{}Z'.format(i)]] = pd.DataFrame(df[i].tolist(), index=df.index)\n",
    "# df.drop(columns=old_cols, inplace=True)\n",
    "# df.replace(0, np.nan, inplace=True)\n",
    "# init_pos = {key: (0,0,0) for key in joints}\n",
    "# init_pos_median = {key: (0,0,0) for key in joints}\n",
    "# for i in joints:\n",
    "#     init_pos[i] = (df['{}X'.format(i)].mean(), df['{}Y'.format(i)].mean(), df['{}Z'.format(i)].mean())\n",
    "#     init_pos_median[i] = (df['{}X'.format(i)].median(), df['{}Y'.format(i)].median(), df['{}Z'.format(i)].median())\n",
    "# init_pos, init_pos_median"
   ]
  },
  {
   "cell_type": "code",
   "execution_count": 13,
   "metadata": {},
   "outputs": [],
   "source": [
    "# i='Nose'\n",
    "# df[['{}X'.format(i), '{}Y'.format(i), '{}Z'.format(i)]] = pd.DataFrame(df[i].tolist(), index=df.index)"
   ]
  },
  {
   "cell_type": "code",
   "execution_count": 14,
   "metadata": {},
   "outputs": [],
   "source": [
    "# df"
   ]
  },
  {
   "cell_type": "code",
   "execution_count": 15,
   "metadata": {},
   "outputs": [],
   "source": [
    "# init_dis2d = {key: 0 for key in joints}\n",
    "# init_dis2d"
   ]
  },
  {
   "cell_type": "code",
   "execution_count": 16,
   "metadata": {},
   "outputs": [],
   "source": [
    "# x=3.5\n",
    "# round(x)"
   ]
  },
  {
   "cell_type": "code",
   "execution_count": 42,
   "metadata": {},
   "outputs": [
    {
     "data": {
      "text/html": [
       "<div>\n",
       "<style scoped>\n",
       "    .dataframe tbody tr th:only-of-type {\n",
       "        vertical-align: middle;\n",
       "    }\n",
       "\n",
       "    .dataframe tbody tr th {\n",
       "        vertical-align: top;\n",
       "    }\n",
       "\n",
       "    .dataframe thead th {\n",
       "        text-align: right;\n",
       "    }\n",
       "</style>\n",
       "<table border=\"1\" class=\"dataframe\">\n",
       "  <thead>\n",
       "    <tr style=\"text-align: right;\">\n",
       "      <th></th>\n",
       "      <th>NoseX</th>\n",
       "      <th>NoseY</th>\n",
       "      <th>NoseZ</th>\n",
       "      <th>NeckX</th>\n",
       "      <th>NeckY</th>\n",
       "      <th>NeckZ</th>\n",
       "      <th>Right_shoulderX</th>\n",
       "      <th>Right_shoulderY</th>\n",
       "      <th>Right_shoulderZ</th>\n",
       "      <th>Right_elbowX</th>\n",
       "      <th>...</th>\n",
       "      <th>Right_eyeZ</th>\n",
       "      <th>Left_eyeX</th>\n",
       "      <th>Left_eyeY</th>\n",
       "      <th>Left_eyeZ</th>\n",
       "      <th>Right_earX</th>\n",
       "      <th>Right_earY</th>\n",
       "      <th>Right_earZ</th>\n",
       "      <th>Left_earX</th>\n",
       "      <th>Left_earY</th>\n",
       "      <th>Left_earZ</th>\n",
       "    </tr>\n",
       "  </thead>\n",
       "  <tbody>\n",
       "    <tr>\n",
       "      <th>0</th>\n",
       "      <td>NaN</td>\n",
       "      <td>NaN</td>\n",
       "      <td>NaN</td>\n",
       "      <td>NaN</td>\n",
       "      <td>NaN</td>\n",
       "      <td>NaN</td>\n",
       "      <td>NaN</td>\n",
       "      <td>NaN</td>\n",
       "      <td>NaN</td>\n",
       "      <td>NaN</td>\n",
       "      <td>...</td>\n",
       "      <td>NaN</td>\n",
       "      <td>NaN</td>\n",
       "      <td>NaN</td>\n",
       "      <td>NaN</td>\n",
       "      <td>NaN</td>\n",
       "      <td>NaN</td>\n",
       "      <td>NaN</td>\n",
       "      <td>NaN</td>\n",
       "      <td>NaN</td>\n",
       "      <td>NaN</td>\n",
       "    </tr>\n",
       "    <tr>\n",
       "      <th>1</th>\n",
       "      <td>0.021487</td>\n",
       "      <td>-0.502997</td>\n",
       "      <td>5.056639</td>\n",
       "      <td>0.021973</td>\n",
       "      <td>-0.354169</td>\n",
       "      <td>5.171167</td>\n",
       "      <td>-0.136608</td>\n",
       "      <td>-0.316403</td>\n",
       "      <td>5.115667</td>\n",
       "      <td>-0.242742</td>\n",
       "      <td>...</td>\n",
       "      <td>5.060806</td>\n",
       "      <td>0.084581</td>\n",
       "      <td>-0.541247</td>\n",
       "      <td>5.154472</td>\n",
       "      <td>-0.045985</td>\n",
       "      <td>-0.535548</td>\n",
       "      <td>5.100194</td>\n",
       "      <td>NaN</td>\n",
       "      <td>NaN</td>\n",
       "      <td>NaN</td>\n",
       "    </tr>\n",
       "    <tr>\n",
       "      <th>2</th>\n",
       "      <td>0.021546</td>\n",
       "      <td>-0.504379</td>\n",
       "      <td>5.070528</td>\n",
       "      <td>0.021935</td>\n",
       "      <td>-0.353560</td>\n",
       "      <td>5.162278</td>\n",
       "      <td>-0.138542</td>\n",
       "      <td>-0.320884</td>\n",
       "      <td>5.188111</td>\n",
       "      <td>-0.240016</td>\n",
       "      <td>...</td>\n",
       "      <td>5.062889</td>\n",
       "      <td>0.049845</td>\n",
       "      <td>-0.535364</td>\n",
       "      <td>5.098444</td>\n",
       "      <td>-0.075420</td>\n",
       "      <td>-0.544532</td>\n",
       "      <td>5.185750</td>\n",
       "      <td>0.084711</td>\n",
       "      <td>-0.542079</td>\n",
       "      <td>5.162389</td>\n",
       "    </tr>\n",
       "    <tr>\n",
       "      <th>3</th>\n",
       "      <td>0.021560</td>\n",
       "      <td>-0.504724</td>\n",
       "      <td>5.074000</td>\n",
       "      <td>0.021392</td>\n",
       "      <td>-0.344803</td>\n",
       "      <td>5.034417</td>\n",
       "      <td>-0.137265</td>\n",
       "      <td>-0.317927</td>\n",
       "      <td>5.140306</td>\n",
       "      <td>-0.243655</td>\n",
       "      <td>...</td>\n",
       "      <td>5.098444</td>\n",
       "      <td>0.049824</td>\n",
       "      <td>-0.535143</td>\n",
       "      <td>5.096334</td>\n",
       "      <td>-0.076607</td>\n",
       "      <td>-0.553104</td>\n",
       "      <td>5.267389</td>\n",
       "      <td>0.085597</td>\n",
       "      <td>-0.547746</td>\n",
       "      <td>5.216362</td>\n",
       "    </tr>\n",
       "    <tr>\n",
       "      <th>4</th>\n",
       "      <td>0.021722</td>\n",
       "      <td>-0.508504</td>\n",
       "      <td>5.112000</td>\n",
       "      <td>0.021700</td>\n",
       "      <td>-0.349767</td>\n",
       "      <td>5.106889</td>\n",
       "      <td>-0.143025</td>\n",
       "      <td>-0.331268</td>\n",
       "      <td>5.356000</td>\n",
       "      <td>-0.209799</td>\n",
       "      <td>...</td>\n",
       "      <td>5.093500</td>\n",
       "      <td>0.021710</td>\n",
       "      <td>-0.536496</td>\n",
       "      <td>5.109222</td>\n",
       "      <td>-0.075954</td>\n",
       "      <td>-0.548388</td>\n",
       "      <td>5.222473</td>\n",
       "      <td>0.084798</td>\n",
       "      <td>-0.542633</td>\n",
       "      <td>5.167667</td>\n",
       "    </tr>\n",
       "    <tr>\n",
       "      <th>...</th>\n",
       "      <td>...</td>\n",
       "      <td>...</td>\n",
       "      <td>...</td>\n",
       "      <td>...</td>\n",
       "      <td>...</td>\n",
       "      <td>...</td>\n",
       "      <td>...</td>\n",
       "      <td>...</td>\n",
       "      <td>...</td>\n",
       "      <td>...</td>\n",
       "      <td>...</td>\n",
       "      <td>...</td>\n",
       "      <td>...</td>\n",
       "      <td>...</td>\n",
       "      <td>...</td>\n",
       "      <td>...</td>\n",
       "      <td>...</td>\n",
       "      <td>...</td>\n",
       "      <td>...</td>\n",
       "      <td>...</td>\n",
       "      <td>...</td>\n",
       "    </tr>\n",
       "    <tr>\n",
       "      <th>5131</th>\n",
       "      <td>-0.012224</td>\n",
       "      <td>-0.510157</td>\n",
       "      <td>5.128612</td>\n",
       "      <td>0.021680</td>\n",
       "      <td>-0.349445</td>\n",
       "      <td>5.102195</td>\n",
       "      <td>-0.178986</td>\n",
       "      <td>-0.332075</td>\n",
       "      <td>5.369056</td>\n",
       "      <td>-0.211449</td>\n",
       "      <td>...</td>\n",
       "      <td>5.093223</td>\n",
       "      <td>0.021537</td>\n",
       "      <td>-0.532214</td>\n",
       "      <td>5.068445</td>\n",
       "      <td>-0.075603</td>\n",
       "      <td>-0.545853</td>\n",
       "      <td>5.198334</td>\n",
       "      <td>0.084639</td>\n",
       "      <td>-0.541615</td>\n",
       "      <td>5.157972</td>\n",
       "    </tr>\n",
       "    <tr>\n",
       "      <th>5132</th>\n",
       "      <td>-0.012074</td>\n",
       "      <td>-0.503895</td>\n",
       "      <td>5.065667</td>\n",
       "      <td>0.021926</td>\n",
       "      <td>-0.353404</td>\n",
       "      <td>5.160000</td>\n",
       "      <td>-0.177152</td>\n",
       "      <td>-0.328674</td>\n",
       "      <td>5.314056</td>\n",
       "      <td>-0.209985</td>\n",
       "      <td>...</td>\n",
       "      <td>5.084528</td>\n",
       "      <td>0.021731</td>\n",
       "      <td>-0.537015</td>\n",
       "      <td>5.114167</td>\n",
       "      <td>-0.075103</td>\n",
       "      <td>-0.542245</td>\n",
       "      <td>5.163972</td>\n",
       "      <td>0.084616</td>\n",
       "      <td>-0.541472</td>\n",
       "      <td>5.156611</td>\n",
       "    </tr>\n",
       "    <tr>\n",
       "      <th>5133</th>\n",
       "      <td>-0.012231</td>\n",
       "      <td>-0.510444</td>\n",
       "      <td>5.131500</td>\n",
       "      <td>0.021817</td>\n",
       "      <td>-0.351656</td>\n",
       "      <td>5.134472</td>\n",
       "      <td>-0.177225</td>\n",
       "      <td>-0.328809</td>\n",
       "      <td>5.316250</td>\n",
       "      <td>-0.207571</td>\n",
       "      <td>...</td>\n",
       "      <td>5.131695</td>\n",
       "      <td>0.021540</td>\n",
       "      <td>-0.532287</td>\n",
       "      <td>5.069139</td>\n",
       "      <td>-0.075752</td>\n",
       "      <td>-0.546926</td>\n",
       "      <td>5.208556</td>\n",
       "      <td>0.083852</td>\n",
       "      <td>-0.536583</td>\n",
       "      <td>5.110056</td>\n",
       "    </tr>\n",
       "    <tr>\n",
       "      <th>5134</th>\n",
       "      <td>-0.012161</td>\n",
       "      <td>-0.507498</td>\n",
       "      <td>5.101889</td>\n",
       "      <td>0.022012</td>\n",
       "      <td>-0.354785</td>\n",
       "      <td>5.180167</td>\n",
       "      <td>-0.138742</td>\n",
       "      <td>-0.321346</td>\n",
       "      <td>5.195583</td>\n",
       "      <td>-0.211281</td>\n",
       "      <td>...</td>\n",
       "      <td>5.148389</td>\n",
       "      <td>0.021637</td>\n",
       "      <td>-0.534693</td>\n",
       "      <td>5.092056</td>\n",
       "      <td>-0.076107</td>\n",
       "      <td>-0.549493</td>\n",
       "      <td>5.233000</td>\n",
       "      <td>0.084477</td>\n",
       "      <td>-0.540582</td>\n",
       "      <td>5.148139</td>\n",
       "    </tr>\n",
       "    <tr>\n",
       "      <th>5135</th>\n",
       "      <td>-0.012178</td>\n",
       "      <td>-0.508220</td>\n",
       "      <td>5.109139</td>\n",
       "      <td>0.021958</td>\n",
       "      <td>-0.353922</td>\n",
       "      <td>5.167556</td>\n",
       "      <td>-0.173970</td>\n",
       "      <td>-0.322770</td>\n",
       "      <td>5.218611</td>\n",
       "      <td>-0.242714</td>\n",
       "      <td>...</td>\n",
       "      <td>5.134445</td>\n",
       "      <td>0.021698</td>\n",
       "      <td>-0.536198</td>\n",
       "      <td>5.106389</td>\n",
       "      <td>-0.075815</td>\n",
       "      <td>-0.547382</td>\n",
       "      <td>5.212889</td>\n",
       "      <td>0.084508</td>\n",
       "      <td>-0.540778</td>\n",
       "      <td>5.150000</td>\n",
       "    </tr>\n",
       "  </tbody>\n",
       "</table>\n",
       "<p>5136 rows × 54 columns</p>\n",
       "</div>"
      ],
      "text/plain": [
       "         NoseX     NoseY     NoseZ     NeckX     NeckY     NeckZ  \\\n",
       "0          NaN       NaN       NaN       NaN       NaN       NaN   \n",
       "1     0.021487 -0.502997  5.056639  0.021973 -0.354169  5.171167   \n",
       "2     0.021546 -0.504379  5.070528  0.021935 -0.353560  5.162278   \n",
       "3     0.021560 -0.504724  5.074000  0.021392 -0.344803  5.034417   \n",
       "4     0.021722 -0.508504  5.112000  0.021700 -0.349767  5.106889   \n",
       "...        ...       ...       ...       ...       ...       ...   \n",
       "5131 -0.012224 -0.510157  5.128612  0.021680 -0.349445  5.102195   \n",
       "5132 -0.012074 -0.503895  5.065667  0.021926 -0.353404  5.160000   \n",
       "5133 -0.012231 -0.510444  5.131500  0.021817 -0.351656  5.134472   \n",
       "5134 -0.012161 -0.507498  5.101889  0.022012 -0.354785  5.180167   \n",
       "5135 -0.012178 -0.508220  5.109139  0.021958 -0.353922  5.167556   \n",
       "\n",
       "      Right_shoulderX  Right_shoulderY  Right_shoulderZ  Right_elbowX  ...  \\\n",
       "0                 NaN              NaN              NaN           NaN  ...   \n",
       "1           -0.136608        -0.316403         5.115667     -0.242742  ...   \n",
       "2           -0.138542        -0.320884         5.188111     -0.240016  ...   \n",
       "3           -0.137265        -0.317927         5.140306     -0.243655  ...   \n",
       "4           -0.143025        -0.331268         5.356000     -0.209799  ...   \n",
       "...               ...              ...              ...           ...  ...   \n",
       "5131        -0.178986        -0.332075         5.369056     -0.211449  ...   \n",
       "5132        -0.177152        -0.328674         5.314056     -0.209985  ...   \n",
       "5133        -0.177225        -0.328809         5.316250     -0.207571  ...   \n",
       "5134        -0.138742        -0.321346         5.195583     -0.211281  ...   \n",
       "5135        -0.173970        -0.322770         5.218611     -0.242714  ...   \n",
       "\n",
       "      Right_eyeZ  Left_eyeX  Left_eyeY  Left_eyeZ  Right_earX  Right_earY  \\\n",
       "0            NaN        NaN        NaN        NaN         NaN         NaN   \n",
       "1       5.060806   0.084581  -0.541247   5.154472   -0.045985   -0.535548   \n",
       "2       5.062889   0.049845  -0.535364   5.098444   -0.075420   -0.544532   \n",
       "3       5.098444   0.049824  -0.535143   5.096334   -0.076607   -0.553104   \n",
       "4       5.093500   0.021710  -0.536496   5.109222   -0.075954   -0.548388   \n",
       "...          ...        ...        ...        ...         ...         ...   \n",
       "5131    5.093223   0.021537  -0.532214   5.068445   -0.075603   -0.545853   \n",
       "5132    5.084528   0.021731  -0.537015   5.114167   -0.075103   -0.542245   \n",
       "5133    5.131695   0.021540  -0.532287   5.069139   -0.075752   -0.546926   \n",
       "5134    5.148389   0.021637  -0.534693   5.092056   -0.076107   -0.549493   \n",
       "5135    5.134445   0.021698  -0.536198   5.106389   -0.075815   -0.547382   \n",
       "\n",
       "      Right_earZ  Left_earX  Left_earY  Left_earZ  \n",
       "0            NaN        NaN        NaN        NaN  \n",
       "1       5.100194        NaN        NaN        NaN  \n",
       "2       5.185750   0.084711  -0.542079   5.162389  \n",
       "3       5.267389   0.085597  -0.547746   5.216362  \n",
       "4       5.222473   0.084798  -0.542633   5.167667  \n",
       "...          ...        ...        ...        ...  \n",
       "5131    5.198334   0.084639  -0.541615   5.157972  \n",
       "5132    5.163972   0.084616  -0.541472   5.156611  \n",
       "5133    5.208556   0.083852  -0.536583   5.110056  \n",
       "5134    5.233000   0.084477  -0.540582   5.148139  \n",
       "5135    5.212889   0.084508  -0.540778   5.150000  \n",
       "\n",
       "[5136 rows x 54 columns]"
      ]
     },
     "execution_count": 42,
     "metadata": {},
     "output_type": "execute_result"
    }
   ],
   "source": [
    "df = pd.read_csv(\"C:\\\\Users\\\\Testing\\\\Downloads\\\\position3d.csv\")\n",
    "df.drop(columns = ['Unnamed: 0'], inplace = True)\n",
    "df"
   ]
  },
  {
   "cell_type": "code",
   "execution_count": 43,
   "metadata": {},
   "outputs": [],
   "source": [
    "# df.std()"
   ]
  },
  {
   "cell_type": "code",
   "execution_count": 44,
   "metadata": {},
   "outputs": [],
   "source": [
    "# plt.plot(df.loc[1000:1500,'Xdif'], color = \"red\", label = \"X\")\n",
    "# plt.plot(df.loc[1000:1500,'Ydif'], color = \"green\", label = \"Y\")\n",
    "# plt.plot(df.loc[1000:1500,'Zdif'], color = \"blue\", label = \"Z\")\n",
    "# plt.legend()\n",
    "# plt.show()"
   ]
  },
  {
   "cell_type": "code",
   "execution_count": 45,
   "metadata": {},
   "outputs": [],
   "source": [
    "# df['Left_ankleZ'].min()"
   ]
  },
  {
   "cell_type": "code",
   "execution_count": 16,
   "metadata": {},
   "outputs": [],
   "source": [
    "# df['Xdif'] = df['Left_ankleX'] - df['Left_ankleX'].min()\n",
    "# df['Ydif'] = df['Left_ankleY'] - df['Left_ankleY'].min()\n",
    "# df['Zdif'] = df['Left_ankleZ'] - df['Left_ankleZ'].min()"
   ]
  },
  {
   "cell_type": "code",
   "execution_count": 47,
   "metadata": {},
   "outputs": [],
   "source": [
    "# len(df)"
   ]
  },
  {
   "cell_type": "code",
   "execution_count": 48,
   "metadata": {},
   "outputs": [],
   "source": [
    "# df['Left_ankleZ'].hist(bins=1000)"
   ]
  },
  {
   "cell_type": "code",
   "execution_count": 49,
   "metadata": {},
   "outputs": [],
   "source": [
    "# len(df['Left_ankleZ'].unique())"
   ]
  },
  {
   "cell_type": "code",
   "execution_count": 50,
   "metadata": {},
   "outputs": [],
   "source": [
    "for i in df.columns:\n",
    "    df['{}dif'.format(i)] = df[i] - df[i].min()"
   ]
  },
  {
   "cell_type": "code",
   "execution_count": 73,
   "metadata": {},
   "outputs": [
    {
     "name": "stdout",
     "output_type": "stream",
     "text": [
      "Right_hipZ 2.4620068487866282\n",
      "Right_kneeZ 0.7368845745442552\n",
      "Right_ankleZ 0.8563042628970203\n",
      "Left_hipZ 1.3296809144450064\n",
      "Left_kneeZ 1.0895784350795834\n",
      "Left_ankleZ 1.261684333249574\n"
     ]
    },
    {
     "data": {
      "image/png": "[encoded data removed]",
      "text/plain": [
       "<Figure size 432x288 with 1 Axes>"
      ]
     },
     "metadata": {
      "needs_background": "light"
     },
     "output_type": "display_data"
    }
   ],
   "source": [
    "for i in df.columns[0:54][2::3][8:14]:\n",
    "    plt.scatter(df[i].std(),df[i].mean(), label = i)\n",
    "    plt.legend()\n",
    "    print(i, 100*df[i].std()/df[i].mean())"
   ]
  },
  {
   "cell_type": "code",
   "execution_count": 41,
   "metadata": {},
   "outputs": [
    {
     "data": {
      "text/plain": [
       "Index(['NoseXdif', 'NoseYdif', 'NoseZdif', 'NeckXdif', 'NeckYdif', 'NeckZdif',\n",
       "       'Right_shoulderXdif', 'Right_shoulderYdif', 'Right_shoulderZdif',\n",
       "       'Right_elbowXdif', 'Right_elbowYdif', 'Right_elbowZdif',\n",
       "       'Right_wristXdif', 'Right_wristYdif', 'Right_wristZdif',\n",
       "       'Left_shoulderXdif', 'Left_shoulderYdif', 'Left_shoulderZdif',\n",
       "       'Left_elbowXdif', 'Left_elbowYdif', 'Left_elbowZdif', 'Left_wristXdif',\n",
       "       'Left_wristYdif', 'Left_wristZdif', 'Right_hipXdif', 'Right_hipYdif',\n",
       "       'Right_hipZdif', 'Right_kneeXdif', 'Right_kneeYdif', 'Right_kneeZdif',\n",
       "       'Right_ankleXdif', 'Right_ankleYdif', 'Right_ankleZdif', 'Left_hipXdif',\n",
       "       'Left_hipYdif', 'Left_hipZdif', 'Left_kneeXdif', 'Left_kneeYdif',\n",
       "       'Left_kneeZdif', 'Left_ankleXdif', 'Left_ankleYdif', 'Left_ankleZdif',\n",
       "       'Right_eyeXdif', 'Right_eyeYdif', 'Right_eyeZdif', 'Left_eyeXdif',\n",
       "       'Left_eyeYdif', 'Left_eyeZdif', 'Right_earXdif', 'Right_earYdif',\n",
       "       'Right_earZdif', 'Left_earXdif', 'Left_earYdif', 'Left_earZdif'],\n",
       "      dtype='object')"
      ]
     },
     "execution_count": 41,
     "metadata": {},
     "output_type": "execute_result"
    }
   ],
   "source": [
    "df.columns[-54:]"
   ]
  },
  {
   "cell_type": "code",
   "execution_count": 69,
   "metadata": {},
   "outputs": [
    {
     "data": {
      "text/plain": [
       "Index(['Right_hipZ', 'Right_kneeZ', 'Right_ankleZ'], dtype='object')"
      ]
     },
     "execution_count": 69,
     "metadata": {},
     "output_type": "execute_result"
    }
   ],
   "source": [
    "c = df.columns[0:54][2::3][8:14][:3]\n",
    "c"
   ]
  },
  {
   "cell_type": "code",
   "execution_count": 74,
   "metadata": {},
   "outputs": [
    {
     "data": {
      "text/plain": [
       "5136"
      ]
     },
     "execution_count": 74,
     "metadata": {},
     "output_type": "execute_result"
    }
   ],
   "source": [
    "len(df)"
   ]
  },
  {
   "cell_type": "code",
   "execution_count": 77,
   "metadata": {},
   "outputs": [
    {
     "data": {
      "text/plain": [
       "72"
      ]
     },
     "execution_count": 77,
     "metadata": {},
     "output_type": "execute_result"
    }
   ],
   "source": [
    "import math\n",
    "round(math.sqrt(5136))"
   ]
  },
  {
   "cell_type": "code",
   "execution_count": 83,
   "metadata": {},
   "outputs": [
    {
     "data": {
      "text/plain": [
       "2702"
      ]
     },
     "execution_count": 83,
     "metadata": {},
     "output_type": "execute_result"
    }
   ],
   "source": [
    "len(df['Right_ankleZ'].unique())"
   ]
  },
  {
   "cell_type": "code",
   "execution_count": null,
   "metadata": {},
   "outputs": [],
   "source": []
  }
 ],
 "metadata": {
  "kernelspec": {
   "display_name": "Python 3",
   "language": "python",
   "name": "python3"
  },
  "language_info": {
   "codemirror_mode": {
    "name": "ipython",
    "version": 3
   },
   "file_extension": ".py",
   "mimetype": "text/x-python",
   "name": "python",
   "nbconvert_exporter": "python",
   "pygments_lexer": "ipython3",
   "version": "3.8.3"
  }
 },
 "nbformat": 4,
 "nbformat_minor": 4
}
