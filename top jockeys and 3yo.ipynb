{
 "cells": [
  {
   "cell_type": "code",
   "execution_count": 1,
   "metadata": {},
   "outputs": [],
   "source": [
    "import numpy as np\n",
    "import pandas as pd"
   ]
  },
  {
   "cell_type": "code",
   "execution_count": 2,
   "metadata": {},
   "outputs": [],
   "source": [
    "pd.set_option('display.max_columns', None)\n",
    "# pd.set_option('display.max_rows', None)"
   ]
  },
  {
   "cell_type": "code",
   "execution_count": 6,
   "metadata": {},
   "outputs": [],
   "source": [
    "# data = pd.concat(pd.read_excel(r'C:\\Users\\Testing\\NEW METHOD FILE.xlsx', sheet_name=None), ignore_index=True)\n",
    "data = pd.read_excel(r'C:\\Users\\Testing\\Downloads\\NEW METHOD 210805.xlsx')\n",
    "\n",
    "data.rename(columns = {'Center':'Season', 'Horse Name': 'Horse', 'Dist': 'Distance', }, inplace = True)\n",
    "\n",
    "data.Age.replace([np.nan, '3y', '5y', '4y', '6y', '7y', '8y', '9y', '2y'],[0, 3, 5, 4, 6, 7, 8, 9, 2],inplace=True)\n",
    "data.Result.replace(['DNC', 'NC', 'DNF', 'DR'],[0,0,0,0], inplace=True)\n",
    "\n",
    "data['combined_data'] = list(zip(data.Age, data.Result))\n",
    "data['LBW2'] = ((data['Result']==2).replace([False, True], [0, 1]))*data['LBW']\n",
    "\n",
    "data['RunNo.']=[-1]*len(data)\n",
    "\n",
    "data['Dr'].replace([np.nan], [0], inplace=True)\n",
    "data['Dr'] = data.Dr.astype(int)\n",
    "data['Date'] = data['Date'].dt.date\n",
    "\n",
    "data.drop(columns=['Time'], inplace=True)\n",
    "###########################\n",
    "new = data['Venue ID'].str.split(\"=\", n = 1, expand = True)\n",
    "data['Venue ID'] = new[1]\n",
    "data['Venue ID'] = data['Venue ID'].astype(int)\n",
    "data['Venue Name'] = data['Venue ID'].replace([1,2,3,4,7,8,9,10,11], ['KOL', 'MUM', 'BLR', 'CHE', 'DEL', 'MYS', 'OOT', 'PUN', 'HYD'])\n",
    "allowed_jockeys = ['Suraj Narredu', 'Trevor Patel','A Sandesh', 'Akshay Kumar']\n",
    "# data = data.loc[data['Jockey'].isin(['Suraj Narredu', 'Trevor Patel','A Sandesh', 'Akshay Kumar'])]"
   ]
  },
  {
   "cell_type": "code",
   "execution_count": 8,
   "metadata": {},
   "outputs": [
    {
     "data": {
      "text/plain": [
       "array(['T-M3y', 'IV 4y&o', 'II up', 'T-3y', 'III', 'IV', 'I up',\n",
       "       'IV inf 5y&o', 'V 4y&o', 'IV inf', 'T-4y&o', 'III 5y&o',\n",
       "       'IV inf 4y&o', 'V', 'III 3y&o', 'II 3y&o', 'I up 3y&o', 'IV 3y&o',\n",
       "       'IV 5y&o', 'T-3y&o', 'III 4y&o', 'IV M3y', 'I', 'II', 'IV 3y',\n",
       "       'II up 3y&o', 'V 5y&o', 'II 4y&o', 'IV 4y', 'II up 4y&o',\n",
       "       'IV M3y&o', 'T-4y', 'V 3y&o', 'V M3y&o', 'T-M2y', 'V M3y',\n",
       "       'II 5y&o', 'T-2y', 'IV 6y&o', 'IV M4y', 'I up 4y&o'], dtype=object)"
      ]
     },
     "execution_count": 8,
     "metadata": {},
     "output_type": "execute_result"
    }
   ],
   "source": [
    "data.Class.unique()"
   ]
  },
  {
   "cell_type": "code",
   "execution_count": null,
   "metadata": {},
   "outputs": [],
   "source": [
    "['T-M3y', 'IV 4y&o', 'II up', 'T-3y', 'III', 'IV', 'I up',\n",
    "       'IV inf 5y&o', 'V 4y&o', 'IV inf', 'T-4y&o', 'III 5y&o',\n",
    "       'IV inf 4y&o', 'V', 'III 3y&o', 'II 3y&o', 'I up 3y&o', 'IV 3y&o',\n",
    "       'IV 5y&o', 'T-3y&o', 'III 4y&o', 'IV M3y', 'I', 'II', 'IV 3y',\n",
    "       'II up 3y&o', 'V 5y&o', 'II 4y&o', 'IV 4y', 'II up 4y&o',\n",
    "       'IV M3y&o', 'T-4y', 'V 3y&o', 'V M3y&o', 'T-M2y', 'V M3y',\n",
    "       'II 5y&o', 'T-2y', 'IV 6y&o', 'IV M4y', 'I up 4y&o']"
   ]
  }
 ],
 "metadata": {
  "kernelspec": {
   "display_name": "Python 3",
   "language": "python",
   "name": "python3"
  },
  "language_info": {
   "codemirror_mode": {
    "name": "ipython",
    "version": 3
   },
   "file_extension": ".py",
   "mimetype": "text/x-python",
   "name": "python",
   "nbconvert_exporter": "python",
   "pygments_lexer": "ipython3",
   "version": "3.8.3"
  }
 },
 "nbformat": 4,
 "nbformat_minor": 4
}
